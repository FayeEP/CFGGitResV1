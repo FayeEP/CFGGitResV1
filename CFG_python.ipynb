{
  "nbformat": 4,
  "nbformat_minor": 0,
  "metadata": {
    "colab": {
      "provenance": [],
      "authorship_tag": "ABX9TyOBZMkw20P+sXnwPnEqkKwk",
      "include_colab_link": true
    },
    "kernelspec": {
      "name": "python3",
      "display_name": "Python 3"
    },
    "language_info": {
      "name": "python"
    }
  },
  "cells": [
    {
      "cell_type": "markdown",
      "metadata": {
        "id": "view-in-github",
        "colab_type": "text"
      },
      "source": [
        "<a href=\"https://colab.research.google.com/github/FayeEP/CFGGitResV1/blob/main/CFG_python.ipynb\" target=\"_parent\"><img src=\"https://colab.research.google.com/assets/colab-badge.svg\" alt=\"Open In Colab\"/></a>"
      ]
    },
    {
      "cell_type": "code",
      "source": [
        "#Creating an APP to give weather conditions for cycling depending on lcoation\n",
        "\n",
        "import requests\n",
        "\n",
        "api_key = \"60c1ecaa9a6f81b1fe1a9c00cef67163\"\n",
        "\n",
        "root_url = \"http://api.openweathermap.org/data/2.5/weather\"\n",
        "\n",
        "#user location input\n",
        "location_name = input(\"What town or city do you want to know the weather conditions for? \")\n",
        "\n",
        "url = f\"{root_url}appid={api_key}&={location_name}\"\n",
        "r = requests.get(url)\n",
        "\n",
        "print(r.json())\n",
        "\n",
        "data = r.json()\n",
        "temp = data['main']['temp']\n",
        "wind = data['wind']['speed']\n",
        "descrip = data['weather'][0]['description']\n",
        "\n",
        "print(f\"Location: {location_name}\")\n",
        "print(f\"weather conditions for cycling are {descrip}\")\n",
        "print(f\"temperature is {temp}\")\n",
        "print(f\"wind speed is {wind} m/s\")\n",
        "\n",
        "\n"
      ],
      "metadata": {
        "colab": {
          "base_uri": "https://localhost:8080/",
          "height": 251
        },
        "id": "_4vWTngmYeHr",
        "outputId": "72d6716c-891c-4c55-d271-dd6891b3d179"
      },
      "execution_count": null,
      "outputs": [
        {
          "output_type": "stream",
          "name": "stdout",
          "text": [
            "What town or city do you want to know the weather conditions for? london\n",
            "{'cod': 401, 'message': 'Invalid API key. Please see https://openweathermap.org/faq#error401 for more info.'}\n"
          ]
        },
        {
          "output_type": "error",
          "ename": "KeyError",
          "evalue": "'main'",
          "traceback": [
            "\u001b[0;31m---------------------------------------------------------------------------\u001b[0m",
            "\u001b[0;31mKeyError\u001b[0m                                  Traceback (most recent call last)",
            "\u001b[0;32m<ipython-input-36-d713b8890bb7>\u001b[0m in \u001b[0;36m<cell line: 18>\u001b[0;34m()\u001b[0m\n\u001b[1;32m     16\u001b[0m \u001b[0;34m\u001b[0m\u001b[0m\n\u001b[1;32m     17\u001b[0m \u001b[0mdata\u001b[0m \u001b[0;34m=\u001b[0m \u001b[0mr\u001b[0m\u001b[0;34m.\u001b[0m\u001b[0mjson\u001b[0m\u001b[0;34m(\u001b[0m\u001b[0;34m)\u001b[0m\u001b[0;34m\u001b[0m\u001b[0;34m\u001b[0m\u001b[0m\n\u001b[0;32m---> 18\u001b[0;31m \u001b[0mtemp\u001b[0m \u001b[0;34m=\u001b[0m \u001b[0mdata\u001b[0m\u001b[0;34m[\u001b[0m\u001b[0;34m'main'\u001b[0m\u001b[0;34m]\u001b[0m\u001b[0;34m[\u001b[0m\u001b[0;34m'temp'\u001b[0m\u001b[0;34m]\u001b[0m\u001b[0;34m\u001b[0m\u001b[0;34m\u001b[0m\u001b[0m\n\u001b[0m\u001b[1;32m     19\u001b[0m \u001b[0mwind\u001b[0m \u001b[0;34m=\u001b[0m \u001b[0mdata\u001b[0m\u001b[0;34m[\u001b[0m\u001b[0;34m'wind'\u001b[0m\u001b[0;34m]\u001b[0m\u001b[0;34m[\u001b[0m\u001b[0;34m'speed'\u001b[0m\u001b[0;34m]\u001b[0m\u001b[0;34m\u001b[0m\u001b[0;34m\u001b[0m\u001b[0m\n\u001b[1;32m     20\u001b[0m \u001b[0mdescrip\u001b[0m \u001b[0;34m=\u001b[0m \u001b[0mdata\u001b[0m\u001b[0;34m[\u001b[0m\u001b[0;34m'weather'\u001b[0m\u001b[0;34m]\u001b[0m\u001b[0;34m[\u001b[0m\u001b[0;36m0\u001b[0m\u001b[0;34m]\u001b[0m\u001b[0;34m[\u001b[0m\u001b[0;34m'description'\u001b[0m\u001b[0;34m]\u001b[0m\u001b[0;34m\u001b[0m\u001b[0;34m\u001b[0m\u001b[0m\n",
            "\u001b[0;31mKeyError\u001b[0m: 'main'"
          ]
        }
      ]
    },
    {
      "cell_type": "code",
      "source": [],
      "metadata": {
        "id": "3Q_ioiZAiHS4"
      },
      "execution_count": null,
      "outputs": []
    },
    {
      "cell_type": "code",
      "source": [
        "#This is an app to find out the weather conditons of a location for cycling.\n",
        "\n",
        "\n",
        "print(\"Welcome to the weather conditions app\")\n",
        "popular_locations = [\"London\", \"Paris\", \"Munich\", \"Rome\", \"Milan\"]\n",
        "location_question = input(\"Would you like to see some locations to test the app? (Y/N)\")\n",
        "if location_question == \"Y\":\n",
        "  print(popular_locations)\n",
        "else:\n",
        "  print(\"Count down...\")\n",
        "\n",
        "\n",
        "st = 5\n",
        "while st > 0 :\n",
        "  print(st)\n",
        "  st = st -1\n",
        "print('Lets go!')\n",
        "\n",
        "\n",
        "\n",
        "\n",
        "import requests\n",
        "from pprint import pprint as pp\n",
        "\n",
        "#To set up your api please go to openweatherapp and create an account.\n",
        "endpoint = 'http://api.openweathermap.org/data/2.5/weather'\n",
        "apiid = 'b23e6c3a22a969b84bb188e4c6f59407'\n",
        "\n",
        "#user location input\n",
        "location_name = input(\"What town or city do you want to know the weather conditions for? \")\n",
        "\n",
        "payload = {\n",
        "    'q':location_name ,\n",
        "    'unit' : 'metrics',\n",
        "    'appid':apiid\n",
        "}\n",
        "\n",
        "response = requests.get(url = endpoint, params = payload )\n",
        "\n",
        "data = response.json()\n",
        "\n",
        "#This is the data output for the weather conditions\n",
        "\n",
        "print(\"Your location:\")\n",
        "name = data['name']\n",
        "country = data['sys']['country']\n",
        "feels_like = data ['main']['feels_like']\n",
        "temperature = data['main']['temp']\n",
        "wind = data['wind']\n",
        "\n",
        "\n",
        "location_weather = {\n",
        "    \"Country is: \": name, country\n",
        "    \"Temperature feels like: \": feels_like\n",
        "    \"Wind: \" : wind\n",
        "}\n",
        "\n",
        "def location_weather(name, country, feels_like, temperature, wind):\n",
        "  print(\"Country is: \" name, country)\n",
        "  print(\"Temperature feels like: \" feels_like)\n",
        "  print(\"Wind: \" wind)\n",
        "\n",
        "\n",
        "\n",
        "print(\"Country: \")\n",
        "pp(data['sys']['country'])\n",
        "print(\"Temperature feels like: \")\n",
        "pp(data['main']['feels_like'])\n",
        "print(\"Temperature is: \")\n",
        "pp(data['main']['temp'])\n",
        "print(\"Wind speed: \")\n",
        "pp(data['wind'])\n",
        "print(\"Summary of weather conditions: \")\n",
        "pp(data['weather'])\n",
        "\n",
        "export_txt = input(\"Would you like to save this out? (Y/N)\")\n",
        "if export_txt == \"Y\":\n",
        "     with open('weatherdata.txt', 'w+') as weather_file:\n",
        "          print(\"saved\")\n",
        "else:\n",
        "   print(\"Lets continue \")\n",
        "\n",
        "\n",
        "\n",
        "\n",
        "\n"
      ],
      "metadata": {
        "colab": {
          "base_uri": "https://localhost:8080/",
          "height": 106
        },
        "id": "jswec-iZiIgO",
        "outputId": "285b3b38-57fd-461c-b6e6-52b0806e8d59"
      },
      "execution_count": 2,
      "outputs": [
        {
          "output_type": "error",
          "ename": "SyntaxError",
          "evalue": "invalid syntax. Perhaps you forgot a comma? (<ipython-input-2-b669894462c9>, line 53)",
          "traceback": [
            "\u001b[0;36m  File \u001b[0;32m\"<ipython-input-2-b669894462c9>\"\u001b[0;36m, line \u001b[0;32m53\u001b[0m\n\u001b[0;31m    print(\"Country is: \" name, country)\u001b[0m\n\u001b[0m          ^\u001b[0m\n\u001b[0;31mSyntaxError\u001b[0m\u001b[0;31m:\u001b[0m invalid syntax. Perhaps you forgot a comma?\n"
          ]
        }
      ]
    },
    {
      "cell_type": "code",
      "source": [
        "#This is an app to find out the weather conditons of a location for cycling.\n",
        "\n",
        "\n",
        "print(\"Welcome to the weather conditions app\")\n",
        "popular_locations = [\"London\", \"Paris\", \"Munich\", \"Rome\", \"Milan\"]\n",
        "location_question = input(\"Would you like to see some locations to test the app? (Y/N)\")\n",
        "if location_question == \"Y\":\n",
        "  print(popular_locations)\n",
        "else:\n",
        "  print(\"Count down...\")\n",
        "\n",
        "#Testing loop function\n",
        "st = 5\n",
        "while st > 0 :\n",
        "  print(st)\n",
        "  st = st -1\n",
        "print('Lets go!')\n",
        "\n",
        "\n",
        "#API set up\n",
        "\n",
        "import requests\n",
        "from pprint import pprint as pp\n",
        "\n",
        "#To set up your api please go to openweatherapp and create an account.\n",
        "endpoint = 'http://api.openweathermap.org/data/2.5/weather'\n",
        "apiid = 'b23e6c3a22a969b84bb188e4c6f59407'\n",
        "\n",
        "#user location input\n",
        "location_name = input(\"What town or city do you want to know the weather conditions for? \")\n",
        "\n",
        "payload = {\n",
        "    'q':location_name ,\n",
        "    'unit' : 'metrics',\n",
        "    'appid':apiid\n",
        "}\n",
        "\n",
        "response = requests.get(url = endpoint, params = payload )\n",
        "\n",
        "data = response.json()\n",
        "\n",
        "#This is the data output for the weather conditions\n",
        "\n",
        "print(\"Your location:\", location_weather)\n",
        "name = data['name']\n",
        "country = data['sys']['country']\n",
        "feels_like = data ['main']['feels_like']\n",
        "temperature = data['main']['temp']\n",
        "wind = data['wind']\n",
        "\n",
        "\n",
        "location_weather = {\n",
        "    \"Country is: \": name,\n",
        "    \"Temperature feels like: \": feels_like,\n",
        "    \"Temperature\" : temperature,\n",
        "    \"Wind: \" : wind,\n",
        "}\n",
        "\n",
        "#saving to a file\n",
        "\n",
        "export_txt = input(\"Would you like to save this out? (Y/N)\")\n",
        "if export_txt == \"Y\":\n",
        "     with open('weatherdata.txt', 'w+') as weather_file:\n",
        "          print(\"saved\")\n",
        "else:\n",
        "   print(\"Lets continue \")\n",
        "\n"
      ],
      "metadata": {
        "colab": {
          "base_uri": "https://localhost:8080/"
        },
        "id": "dFNksCLcC22_",
        "outputId": "cfdb7298-1f30-4ff1-888a-fd9bc88be3f4"
      },
      "execution_count": 14,
      "outputs": [
        {
          "output_type": "stream",
          "name": "stdout",
          "text": [
            "Welcome to the weather conditions app\n",
            "Would you like to see some locations to test the app? (Y/N)Y\n",
            "['London', 'Paris', 'Munich', 'Rome', 'Milan']\n",
            "5\n",
            "4\n",
            "3\n",
            "2\n",
            "1\n",
            "Lets go!\n",
            "What town or city do you want to know the weather conditions for? London\n",
            "Your location: {'Country is: ': 'Paris', 'Temperature feels like: ': 291.22, 'Temperature': 291.5, 'Wind: ': {'speed': 4.63, 'deg': 20}}\n",
            "Would you like to save this out? (Y/N)Y\n",
            "saved\n"
          ]
        }
      ]
    },
    {
      "cell_type": "code",
      "source": [],
      "metadata": {
        "id": "0xAW5k0hIYh7"
      },
      "execution_count": null,
      "outputs": []
    },
    {
      "cell_type": "code",
      "source": [
        "#This is an app to find out the weather conditons of a location for cycling.\n",
        "\n",
        "\n",
        "print(\"Welcome to the weather conditions app\")\n",
        "popular_locations = [\"London\", \"Paris\", \"Munich\", \"Rome\", \"Milan\"]\n",
        "location_question = input(\"Would you like to see some locations to test the app? (Y/N)\")\n",
        "if location_question == \"Y\":\n",
        "  print(popular_locations)\n",
        "else:\n",
        "  print(\"Count down...\")\n",
        "\n",
        "#Easy count down loop -function example\n",
        "#Can't figure out how to expand it to loop the code\n",
        "st = 5\n",
        "while st > 0 :\n",
        "  print(st)\n",
        "  st = st -1\n",
        "print('Lets go!')\n",
        "\n",
        "\n",
        "#API set up\n",
        "\n",
        "import requests\n",
        "from pprint import pprint as pp\n",
        "\n",
        "#To set up your api please go to openweatherapp and create an account.\n",
        "endpoint = 'http://api.openweathermap.org/data/2.5/weather'\n",
        "apiid = 'b23e6c3a22a969b84bb188e4c6f59407'\n",
        "\n",
        "#user location input\n",
        "location_name = input(\"What town or city do you want to know the weather conditions for? \")\n",
        "\n",
        "payload = {\n",
        "    'q':location_name ,\n",
        "    'unit' : 'metrics',\n",
        "    'appid':apiid\n",
        "}\n",
        "\n",
        "response = requests.get(url = endpoint, params = payload )\n",
        "\n",
        "data = response.json()\n",
        "\n",
        "#This is the data output for the weather conditions\n",
        "\n",
        "print(\"Your location:\", location_weather)\n",
        "name = data['name']\n",
        "country = data['sys']['country']\n",
        "feels_like = data ['main']['feels_like']\n",
        "temperature = data['main']['temp']\n",
        "wind = data['wind']\n",
        "\n",
        "\n",
        "location_weather = {\n",
        "    \"Country is: \": name,\n",
        "    \"Temperature feels like: \": feels_like,\n",
        "    \"Temperature\" : temperature,\n",
        "    \"Wind Speed: \" : wind,\n",
        "}\n",
        "\n",
        "#saving to a file\n",
        "\n",
        "export_txt = input(\"Would you like to save this out? (Y/N)\")\n",
        "if export_txt == \"Y\":\n",
        "     with open('weatherdata.txt', 'w+') as weather_file:\n",
        "          print(\"saved\")\n",
        "else:\n",
        "   print(\"Lets continue \")\n",
        "\n"
      ],
      "metadata": {
        "colab": {
          "base_uri": "https://localhost:8080/"
        },
        "outputId": "c3c9fc67-c8db-4aad-ee6e-7c143a76e50d",
        "id": "oLQR3CY0IY7l"
      },
      "execution_count": null,
      "outputs": [
        {
          "output_type": "stream",
          "name": "stdout",
          "text": [
            "Welcome to the weather conditions app\n"
          ]
        }
      ]
    },
    {
      "cell_type": "markdown",
      "source": [],
      "metadata": {
        "id": "vu5BZ7SUSiFs"
      }
    }
  ]
}