{
  "nbformat": 4,
  "nbformat_minor": 0,
  "metadata": {
    "colab": {
      "provenance": [],
      "authorship_tag": "ABX9TyMR/tfA/Q0rJtn8gdInu5Cs",
      "include_colab_link": true
    },
    "kernelspec": {
      "name": "python3",
      "display_name": "Python 3"
    },
    "language_info": {
      "name": "python"
    }
  },
  "cells": [
    {
      "cell_type": "markdown",
      "metadata": {
        "id": "view-in-github",
        "colab_type": "text"
      },
      "source": [
        "<a href=\"https://colab.research.google.com/github/FayeEP/CFGGitResV1/blob/main/CFG__python_1.ipynb\" target=\"_parent\"><img src=\"https://colab.research.google.com/assets/colab-badge.svg\" alt=\"Open In Colab\"/></a>"
      ]
    },
    {
      "cell_type": "code",
      "source": [],
      "metadata": {
        "id": "3Q_ioiZAiHS4"
      },
      "execution_count": null,
      "outputs": []
    },
    {
      "cell_type": "code",
      "source": [],
      "metadata": {
        "id": "0xAW5k0hIYh7"
      },
      "execution_count": null,
      "outputs": []
    },
    {
      "cell_type": "code",
      "source": [
        "#This is an app to find out the weather conditons of a location for cycling.\n",
        "\n",
        "\n",
        "print(\"Welcome to the weather conditions app\")\n",
        "popular_locations = [\"London\", \"Paris\", \"Munich\", \"Rome\", \"Milan\"]\n",
        "location_question = input(\"Would you like to see some locations to test the app? (Y/N)\")\n",
        "if location_question == \"Y\":\n",
        "  print(popular_locations)\n",
        "else:\n",
        "  print(\"Count down...\")\n",
        "\n",
        "#Easy count down loop -function example\n",
        "#Can't figure out how to expand it to loop the code\n",
        "st = 5\n",
        "while st > 0 :\n",
        "  print(st)\n",
        "  st = st -1\n",
        "print('Lets go!')\n",
        "\n",
        "\n",
        "#API set up\n",
        "\n",
        "import requests\n",
        "from pprint import pprint as pp\n",
        "\n",
        "#To set up your api please go to openweatherapp and create an account.\n",
        "endpoint = 'http://api.openweathermap.org/data/2.5/weather'\n",
        "apiid = 'b23e6c3a22a969b84bb188e4c6f59407'\n",
        "\n",
        "#user location input\n",
        "location_name = input(\"What town or city do you want to know the weather conditions for? \")\n",
        "\n",
        "payload = {\n",
        "    'q':location_name ,\n",
        "    'unit' : 'metrics',\n",
        "    'appid':apiid\n",
        "}\n",
        "\n",
        "response = requests.get(url = endpoint, params = payload )\n",
        "\n",
        "data = response.json()\n",
        "\n",
        "#This is the data output for the weather conditions\n",
        "\n",
        "name = data['name']\n",
        "country = data['sys']['country']\n",
        "feels_like = data ['main']['feels_like']\n",
        "temperature = data['main']['temp']\n",
        "wind = data['wind']\n",
        "\n",
        "\n",
        "location_weather = {\n",
        "    \"Country is: \": name,\n",
        "    \"Temperature feels like: \": feels_like,\n",
        "    \"Temperature \": temperature,\n",
        "    \"Wind Speed: \": wind,\n",
        "}\n",
        "\n",
        "print(\"Your location: \", location_weather)\n",
        "#saving to a file\n",
        "\n",
        "export_txt = input(\"Would you like to save this out? (Y/N)\")\n",
        "if export_txt == \"Y\":\n",
        "     with open('weatherdata.txt', 'w+') as weather_file:\n",
        "          print(\"saved\")\n",
        "else:\n",
        "   print(\"Lets continue \")\n",
        "\n"
      ],
      "metadata": {
        "colab": {
          "base_uri": "https://localhost:8080/",
          "height": 547
        },
        "outputId": "3300a273-498a-4d2d-d7f6-d1e25a486ec0",
        "id": "oLQR3CY0IY7l"
      },
      "execution_count": 13,
      "outputs": [
        {
          "output_type": "stream",
          "name": "stdout",
          "text": [
            "Welcome to the weather conditions app\n",
            "Would you like to see some locations to test the app? (Y/N)N\n",
            "Count down...\n",
            "5\n",
            "4\n",
            "3\n",
            "2\n",
            "1\n",
            "Lets go!\n",
            "What town or city do you want to know the weather conditions for? Munich\n",
            "Your location:  {'Country is: ': 'Munich', 'Temperature feels like: ': 280.65, 'Temperature ': 281.53, 'Wind Speed: ': {'speed': 1.79, 'deg': 257, 'gust': 4.02}}\n"
          ]
        },
        {
          "output_type": "error",
          "ename": "KeyboardInterrupt",
          "evalue": "Interrupted by user",
          "traceback": [
            "\u001b[0;31m---------------------------------------------------------------------------\u001b[0m",
            "\u001b[0;31mKeyboardInterrupt\u001b[0m                         Traceback (most recent call last)",
            "\u001b[0;32m<ipython-input-13-10e33389f222>\u001b[0m in \u001b[0;36m<cell line: 62>\u001b[0;34m()\u001b[0m\n\u001b[1;32m     60\u001b[0m \u001b[0;31m#saving to a file\u001b[0m\u001b[0;34m\u001b[0m\u001b[0;34m\u001b[0m\u001b[0m\n\u001b[1;32m     61\u001b[0m \u001b[0;34m\u001b[0m\u001b[0m\n\u001b[0;32m---> 62\u001b[0;31m \u001b[0mexport_txt\u001b[0m \u001b[0;34m=\u001b[0m \u001b[0minput\u001b[0m\u001b[0;34m(\u001b[0m\u001b[0;34m\"Would you like to save this out? (Y/N)\"\u001b[0m\u001b[0;34m)\u001b[0m\u001b[0;34m\u001b[0m\u001b[0;34m\u001b[0m\u001b[0m\n\u001b[0m\u001b[1;32m     63\u001b[0m \u001b[0;32mif\u001b[0m \u001b[0mexport_txt\u001b[0m \u001b[0;34m==\u001b[0m \u001b[0;34m\"Y\"\u001b[0m\u001b[0;34m:\u001b[0m\u001b[0;34m\u001b[0m\u001b[0;34m\u001b[0m\u001b[0m\n\u001b[1;32m     64\u001b[0m      \u001b[0;32mwith\u001b[0m \u001b[0mopen\u001b[0m\u001b[0;34m(\u001b[0m\u001b[0;34m'weatherdata.txt'\u001b[0m\u001b[0;34m,\u001b[0m \u001b[0;34m'w+'\u001b[0m\u001b[0;34m)\u001b[0m \u001b[0;32mas\u001b[0m \u001b[0mweather_file\u001b[0m\u001b[0;34m:\u001b[0m\u001b[0;34m\u001b[0m\u001b[0;34m\u001b[0m\u001b[0m\n",
            "\u001b[0;32m/usr/local/lib/python3.10/dist-packages/ipykernel/kernelbase.py\u001b[0m in \u001b[0;36mraw_input\u001b[0;34m(self, prompt)\u001b[0m\n\u001b[1;32m    849\u001b[0m                 \u001b[0;34m\"raw_input was called, but this frontend does not support input requests.\"\u001b[0m\u001b[0;34m\u001b[0m\u001b[0;34m\u001b[0m\u001b[0m\n\u001b[1;32m    850\u001b[0m             )\n\u001b[0;32m--> 851\u001b[0;31m         return self._input_request(str(prompt),\n\u001b[0m\u001b[1;32m    852\u001b[0m             \u001b[0mself\u001b[0m\u001b[0;34m.\u001b[0m\u001b[0m_parent_ident\u001b[0m\u001b[0;34m,\u001b[0m\u001b[0;34m\u001b[0m\u001b[0;34m\u001b[0m\u001b[0m\n\u001b[1;32m    853\u001b[0m             \u001b[0mself\u001b[0m\u001b[0;34m.\u001b[0m\u001b[0m_parent_header\u001b[0m\u001b[0;34m,\u001b[0m\u001b[0;34m\u001b[0m\u001b[0;34m\u001b[0m\u001b[0m\n",
            "\u001b[0;32m/usr/local/lib/python3.10/dist-packages/ipykernel/kernelbase.py\u001b[0m in \u001b[0;36m_input_request\u001b[0;34m(self, prompt, ident, parent, password)\u001b[0m\n\u001b[1;32m    893\u001b[0m             \u001b[0;32mexcept\u001b[0m \u001b[0mKeyboardInterrupt\u001b[0m\u001b[0;34m:\u001b[0m\u001b[0;34m\u001b[0m\u001b[0;34m\u001b[0m\u001b[0m\n\u001b[1;32m    894\u001b[0m                 \u001b[0;31m# re-raise KeyboardInterrupt, to truncate traceback\u001b[0m\u001b[0;34m\u001b[0m\u001b[0;34m\u001b[0m\u001b[0m\n\u001b[0;32m--> 895\u001b[0;31m                 \u001b[0;32mraise\u001b[0m \u001b[0mKeyboardInterrupt\u001b[0m\u001b[0;34m(\u001b[0m\u001b[0;34m\"Interrupted by user\"\u001b[0m\u001b[0;34m)\u001b[0m \u001b[0;32mfrom\u001b[0m \u001b[0;32mNone\u001b[0m\u001b[0;34m\u001b[0m\u001b[0;34m\u001b[0m\u001b[0m\n\u001b[0m\u001b[1;32m    896\u001b[0m             \u001b[0;32mexcept\u001b[0m \u001b[0mException\u001b[0m \u001b[0;32mas\u001b[0m \u001b[0me\u001b[0m\u001b[0;34m:\u001b[0m\u001b[0;34m\u001b[0m\u001b[0;34m\u001b[0m\u001b[0m\n\u001b[1;32m    897\u001b[0m                 \u001b[0mself\u001b[0m\u001b[0;34m.\u001b[0m\u001b[0mlog\u001b[0m\u001b[0;34m.\u001b[0m\u001b[0mwarning\u001b[0m\u001b[0;34m(\u001b[0m\u001b[0;34m\"Invalid Message:\"\u001b[0m\u001b[0;34m,\u001b[0m \u001b[0mexc_info\u001b[0m\u001b[0;34m=\u001b[0m\u001b[0;32mTrue\u001b[0m\u001b[0;34m)\u001b[0m\u001b[0;34m\u001b[0m\u001b[0;34m\u001b[0m\u001b[0m\n",
            "\u001b[0;31mKeyboardInterrupt\u001b[0m: Interrupted by user"
          ]
        }
      ]
    },
    {
      "cell_type": "markdown",
      "source": [],
      "metadata": {
        "id": "vu5BZ7SUSiFs"
      }
    }
  ]
}